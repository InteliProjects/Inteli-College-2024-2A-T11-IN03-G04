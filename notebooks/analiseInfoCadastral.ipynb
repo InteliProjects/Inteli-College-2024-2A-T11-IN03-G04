{
 "cells": [
  {
   "cell_type": "code",
   "execution_count": null,
   "metadata": {},
   "outputs": [],
   "source": [
    "import numpy as np\n",
    "import pandas as pnd\n",
    "import seaborn as sb\n",
    "dados = pnd.read_csv('informacao_cadastral.csv')\n",
    "porcentagemCidade = dados['cidade'].value_counts(normalize=True)*100\n",
    "quantidadeCidade = dados['cidade'].value_counts()\n",
    "tabelaPorcQuant = pnd.DataFrame({'Porcentagem': porcentagemCidade, 'Quantidade': quantidadeCidade})\n",
    "tabelaPorcQuant\n",
    "dados\n",
    "#380 mil linhas por documento"
   ]
  },
  {
   "cell_type": "code",
   "execution_count": null,
   "metadata": {},
   "outputs": [],
   "source": [
    "dados[dados['clientCode'].str.contains('4b2b41142406be0d6b8c4f660d757b8a5c8c3307395eca')]\n"
   ]
  }
 ],
 "metadata": {
  "kernelspec": {
   "display_name": ".venv",
   "language": "python",
   "name": "python3"
  },
  "language_info": {
   "codemirror_mode": {
    "name": "ipython",
    "version": 3
   },
   "file_extension": ".py",
   "mimetype": "text/x-python",
   "name": "python",
   "nbconvert_exporter": "python",
   "pygments_lexer": "ipython3",
   "version": "3.12.4"
  }
 },
 "nbformat": 4,
 "nbformat_minor": 2
}
