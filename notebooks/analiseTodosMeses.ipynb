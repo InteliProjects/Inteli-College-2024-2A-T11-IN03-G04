{
 "cells": [
  {
   "cell_type": "markdown",
   "metadata": {},
   "source": [
    "### GPS (Gas Prediction System) by GPT (Gas Protection System)"
   ]
  },
  {
   "cell_type": "markdown",
   "metadata": {},
   "source": [
    "Esse é um arquivo python notebook (.ipynb) para uma compreensão de dados para a parceria com a Compass. São utilizadas as bibliotecas pandas, numpy, matplotlib e seaborn. É feito o carregamento e concatenação simultânea de cada tabela (.csv) contendo de dados dos meses. É utilizada uma função para descrever a estatística descritiva de diferentes colunas da tabela. Em seguida foram criados gráficos para diferentes análises da tabela."
   ]
  },
  {
   "cell_type": "code",
   "execution_count": 2,
   "metadata": {},
   "outputs": [],
   "source": [
    "# Carrega biblioteca pandas\n",
    "import pandas as pnd\n",
    "# Carrega biblioteca numpy\n",
    "import numpy as np\n",
    "# Carrega biblioteca matplotlib\n",
    "import matplotlib.pyplot as plt\n",
    "# Carrega biblioteca seaborn\n",
    "import seaborn as sb"
   ]
  },
  {
   "cell_type": "markdown",
   "metadata": {},
   "source": [
    "##### Carregamento e Concatenação de Todas Tabelas"
   ]
  },
  {
   "cell_type": "code",
   "execution_count": null,
   "metadata": {},
   "outputs": [],
   "source": [
    "# Concatena diferentes tabelas com cada mês (dados)\n",
    "# Em seguida salva todos os dados em um único DataFrame chamado df\n",
    "listas = ['month_2.csv', 'month_3.csv', 'month_4.csv', 'month_5.csv', 'month_6.csv']\n",
    "df = []\n",
    "for arquivo in listas:\n",
    "    df += [pnd.read_csv(arquivo)]\n",
    "\n",
    "# Concatena todos os dataframes em um único dataframe chamado df\n",
    "df = pnd.concat(df)\n",
    "\n",
    "# Chama o dataframe contido na variável chamada df\n",
    "df"
   ]
  },
  {
   "cell_type": "markdown",
   "metadata": {},
   "source": [
    "##### Carrega Dados Cadastrais"
   ]
  },
  {
   "cell_type": "code",
   "execution_count": null,
   "metadata": {},
   "outputs": [],
   "source": [
    "# Carrega e salva dadosCadastrais como dadosCadastrais\n",
    "dadosCadastrais = pnd.read_csv('informacao_cadastral.csv')\n",
    "\n",
    "# Chama o dataframe contido na variável dadoCadastrais\n",
    "dadosCadastrais"
   ]
  },
  {
   "cell_type": "markdown",
   "metadata": {},
   "source": [
    "##### Normalização Coluna 'cidade'"
   ]
  },
  {
   "cell_type": "code",
   "execution_count": null,
   "metadata": {},
   "outputs": [],
   "source": [
    "# Carrega diferentes possibilidades para a coluna 'cidade'\n",
    "# Antes da normalização\n",
    "dadosCadastrais['cidade'].unique()"
   ]
  },
  {
   "cell_type": "code",
   "execution_count": null,
   "metadata": {},
   "outputs": [],
   "source": [
    "# Substituindo \"GRAVATAI\" por \"GRAVATAÍ\" na coluna \"cidade\"\n",
    "dadosCadastrais['cidade'] = dadosCadastrais['cidade'].replace('GRAVATAI', 'GRAVATAÍ')\n",
    "\n",
    "# Substituindo \"SAO LEOPOLDO\" por \"SÃO LEOPOLDO\" na coluna \"cidade\"\n",
    "dadosCadastrais['cidade'] = dadosCadastrais['cidade'].replace('SAO LEOPOLDO', 'SÃO LEOPOLDO')\n",
    "\n",
    "# Verificando entradas na coluna \"cidade\"\n",
    "dadosCadastrais['cidade'].unique()"
   ]
  },
  {
   "cell_type": "markdown",
   "metadata": {},
   "source": [
    "#### Estatística Descritiva"
   ]
  },
  {
   "cell_type": "markdown",
   "metadata": {},
   "source": [
    "Nessa sessão é criada uma função que estende a função describe da biblioteca 'pandas'. Adiciona variância, média e moda."
   ]
  },
  {
   "cell_type": "markdown",
   "metadata": {},
   "source": [
    "##### Cria Função de Estatística Descritiva Completa"
   ]
  },
  {
   "cell_type": "code",
   "execution_count": 7,
   "metadata": {},
   "outputs": [],
   "source": [
    "# Cria uma função extendida de descrever (estatísticas descritivas)\n",
    "def describeExtended(data):\n",
    "    description = data.describe()\n",
    "\n",
    "    # Adiciona a mediana, variância e moda para a função describe\t\n",
    "    description.loc['var'] = data.var()\n",
    "    description.loc['median'] = data.median()\n",
    "    description.loc['mode'] = data.mode().iloc[0]\n",
    "    return description"
   ]
  },
  {
   "cell_type": "markdown",
   "metadata": {},
   "source": [
    "##### Utilização da Função Describe Nova Para 'pulseCount', 'meterIndex' e 'initialIndex'"
   ]
  },
  {
   "cell_type": "code",
   "execution_count": null,
   "metadata": {},
   "outputs": [],
   "source": [
    "# Estatística descritiva pulseCount\n",
    "print(describeExtended(df.pulseCount))"
   ]
  },
  {
   "cell_type": "code",
   "execution_count": null,
   "metadata": {},
   "outputs": [],
   "source": [
    "# Estatística descritiva meterIndex\n",
    "print(describeExtended(df.meterIndex))"
   ]
  },
  {
   "cell_type": "code",
   "execution_count": null,
   "metadata": {},
   "outputs": [],
   "source": [
    "# Estatística descritiva initialIndex\n",
    "print(describeExtended(df.initialIndex))"
   ]
  },
  {
   "cell_type": "markdown",
   "metadata": {},
   "source": [
    "#### Pré-Processamento de Dados"
   ]
  },
  {
   "cell_type": "markdown",
   "metadata": {},
   "source": [
    "##### Merge de Dataframes"
   ]
  },
  {
   "cell_type": "markdown",
   "metadata": {},
   "source": [
    "Nessa seção são feitas algumas alterações básicas e geradas uma nova dataframe a partir do que foi filtrado, organizado (ordenar por data), e calculadas as diferenças entre valores."
   ]
  },
  {
   "cell_type": "code",
   "execution_count": null,
   "metadata": {},
   "outputs": [],
   "source": [
    "# Filtra os usuários que estão consumindo gás (operacionais) e por seu código de cliente\n",
    "usuariosUnicos = dadosCadastrais[dadosCadastrais.situacao == 'CONSUMINDO GÁS']['clientCode'].unique() \n",
    "# Organiza os dados dos usuários filtrados pela data\n",
    "mesFiltrado = df[df['clientCode'].isin(usuariosUnicos)].sort_values(by='datetime') \n",
    "# Filtra meterSN diferente de '>N<A'\n",
    "mesFiltrado = mesFiltrado[mesFiltrado['meterSN'] != '>N<A']\n",
    "# Cria uma nova variável mesFiltrado, agrupa por meterSN e clientCode e seleciona a primeira linha\n",
    "resultado = mesFiltrado.groupby(['meterSN', 'clientCode']).first() \n",
    "# Seleciona a coluna pulseCount\n",
    "resultado = resultado[['pulseCount']] \n",
    "# Cria um novo dataframe com a coluna pulseCountInicial\n",
    "final = pnd.DataFrame({'pulseCountInicial': resultado.pulseCount}) \n",
    "# Junta os dataframes\n",
    "merged_df = pnd.merge(df, final, on=['meterSN', 'clientCode'], how='left') \n",
    "# Calcula a diferença entre pulseCount e pulseCountInicial\n",
    "merged_df['pulseCount'] = merged_df['pulseCount'] - merged_df['pulseCountInicial'] \n",
    "#Mostra o dataframe 'merged_df'\n",
    "merged_df"
   ]
  },
  {
   "cell_type": "markdown",
   "metadata": {},
   "source": [
    "#### Gráficos"
   ]
  },
  {
   "cell_type": "markdown",
   "metadata": {},
   "source": [
    "Criação de diversos gráficos anterior ao pré-processamento e posterior ao mesmo."
   ]
  },
  {
   "cell_type": "markdown",
   "metadata": {},
   "source": [
    "##### Gráfico Cliente Específico Possível Anomalia"
   ]
  },
  {
   "cell_type": "code",
   "execution_count": null,
   "metadata": {},
   "outputs": [],
   "source": [
    "#Especifica o cliente que possui anomalia e cria um gráfico de linha da anomalia\n",
    "clienteAnomalia = df[df['clientCode'].str.contains(\"e3322382e75c0d0a8e95f80af703932bd3c38f940aa59a\")].sort_values(by='datetime')\n",
    "sb.lineplot(data=clienteAnomalia, x='datetime', y='pulseCount', hue='clientCode', legend=False)"
   ]
  },
  {
   "cell_type": "markdown",
   "metadata": {},
   "source": [
    "#### Gráfico Todos os Clientes com essa anomalia específica"
   ]
  },
  {
   "cell_type": "code",
   "execution_count": null,
   "metadata": {},
   "outputs": [],
   "source": [
    "#Verifica todos os clientes que tem as anomalias especificas de ter pulseCount menor que 0 em algum momento\n",
    "clientesAnomalia = merged_df[merged_df['pulseCount'] < 0]['clientCode'].unique()\n",
    "clienteAnomalia = merged_df[merged_df['clientCode'].isin(clientesAnomalia)].sort_values(by='datetime')\n",
    "sb.lineplot(data=clienteAnomalia, x='datetime', y='pulseCount', hue='clientCode', legend=False)"
   ]
  },
  {
   "cell_type": "markdown",
   "metadata": {},
   "source": [
    "##### Gráfico da Frequência de Pulsos"
   ]
  },
  {
   "cell_type": "code",
   "execution_count": null,
   "metadata": {},
   "outputs": [],
   "source": [
    "# Distribuição da frequência de pulsos\n",
    "# Moda da frequência de pulsos parece ser 0 de acordo com o gráfico\n",
    "df.pulseCount.hist(bins=20, figsize=(12,6))\n",
    "ax = sb.histplot(df.pulseCount, kde=True)\n",
    "ax.figure.set_size_inches(12,6)\n",
    "ax.set_title('Distribuição da frequência de pulsos', fontsize=18)\n",
    "ax.set_xlabel('Consumo', fontsize=10)"
   ]
  },
  {
   "cell_type": "markdown",
   "metadata": {},
   "source": [
    "##### Gráfico Scatterplot 'pulseCount', 'meterIndex' Sem Processamento"
   ]
  },
  {
   "cell_type": "code",
   "execution_count": null,
   "metadata": {},
   "outputs": [],
   "source": [
    "#Cria um gráfico de dispersão, sem a normalização da coluna pulseCount\n",
    "ultimo_df_sem_proc = df.groupby(['meterSN', 'clientCode']).last()\n",
    "sb.scatterplot(data=ultimo_df_sem_proc, x='pulseCount', y='meterIndex', hue='meterSN', legend=False)"
   ]
  },
  {
   "cell_type": "markdown",
   "metadata": {},
   "source": [
    "##### Gráfico Scatterplot 'pulseCount', 'meterIndex' Com Processamento"
   ]
  },
  {
   "cell_type": "code",
   "execution_count": null,
   "metadata": {},
   "outputs": [],
   "source": [
    "#Cria um gráfico de dispersão com a normalização do pulseCount\n",
    "ultimo_df_com_proc = merged_df.groupby(['meterSN', 'clientCode']).last()\n",
    "sb.scatterplot(data=ultimo_df_com_proc, x='pulseCount', y='meterIndex', hue='meterSN', legend=False)"
   ]
  },
  {
   "cell_type": "markdown",
   "metadata": {},
   "source": [
    "##### Gráfico Boxplot"
   ]
  },
  {
   "cell_type": "code",
   "execution_count": null,
   "metadata": {},
   "outputs": [],
   "source": [
    "#Informações para o gráfico de boxplot; Remove todos que estão com consumo negativo (por questão que vamos perguntar no Sprint Review 2)\n",
    "#Depois remove outliers que estão fora da regrinha de duas vezes o desvio padrão da média\n",
    "graficoFinal = df.groupby(['meterSN', 'clientCode']).last()\n",
    "#graficoFinal = graficoFinal[graficoFinal['pulseCount'] > 0]\n",
    "graficoFinal.describe()\n",
    "#graficoFinal = graficoFinal[graficoFinal['pulseCount'] > (graficoFinal.pulseCount.mean() - (2*graficoFinal.pulseCount.std()))]\n",
    "#graficoFinal = graficoFinal[graficoFinal['pulseCount'] < (graficoFinal.pulseCount.mean() + (2*graficoFinal.pulseCount.std()))]"
   ]
  },
  {
   "cell_type": "code",
   "execution_count": null,
   "metadata": {},
   "outputs": [],
   "source": [
    "# Boxplot da frequência de pulsos\n",
    "ax = sb.boxplot(x= 'pulseCount', data=graficoFinal, orient='h')\n",
    "ax.figure.set_size_inches(12,6)\n",
    "ax.set_title('Boxplot da frequência de pulsos', fontsize=18)\n",
    "ax.set_xlabel('Consumo', fontsize=14)\n",
    "ax"
   ]
  },
  {
   "cell_type": "markdown",
   "metadata": {},
   "source": [
    "##### Gráfico Possível Anomalia"
   ]
  },
  {
   "cell_type": "markdown",
   "metadata": {},
   "source": [
    "Esse é um gráfico de pulseCount por datetime, específico para clientes que não estão contratando o serviço. Apesar do consumo não estar ativado, estão consumindo de acordo com o gráfico/pulseCount."
   ]
  },
  {
   "cell_type": "code",
   "execution_count": null,
   "metadata": {},
   "outputs": [],
   "source": [
    "#Gráfico para análise de pessoas que contrataram o sistema mas não teoricamente deveriam estar consumindo\n",
    "pessoasContratadas = dadosCadastrais[dadosCadastrais.situacao == 'CONTRATADO']['clientCode'].unique()\n",
    "graficoContratados = df[df['clientCode'].isin(pessoasContratadas)].sort_values(by='datetime')\n",
    "sb.lineplot(data=graficoContratados, x='datetime', y='pulseCount', hue='clientCode', legend=False)"
   ]
  },
  {
   "cell_type": "markdown",
   "metadata": {},
   "source": [
    "<h1>Outras possíveis anomalias</h1>\n",
    "<p>Encontramos mais duas anomalias nesse cliente: O consumo do cliente, em mais de um ponto, diminui, e houve uma série de marcações conseguintes com menos de um minuto de intervalo entre elas.</p>"
   ]
  },
  {
   "cell_type": "code",
   "execution_count": null,
   "metadata": {},
   "outputs": [],
   "source": [
    "#Pega um cliente específico em que a analise foi detectada\n",
    "clienteAnalise = merged_df[merged_df['clientCode'].str.contains('345b8ca6318576583eb9cb2a1743e725abfdbfcba87f34')]\n",
    "clienteAnalise.sort_values(by='datetime', inplace=True)\n",
    "#Calcula a variação do pulseCount, cria uma coluna nova com esse valor\n",
    "clienteAnalise['variacaoPulseCount'] = clienteAnalise['pulseCount'].diff()\n",
    "#A primeira linha tem a variação nula, conserta com o valor do pulseCount inicial\n",
    "clienteAnalise['variacaoPulseCount'].fillna(clienteAnalise['pulseCount'], inplace=True)\n",
    "clienteAnalise.reset_index(drop=True, inplace=True)\n",
    "#Cria um gráfico de linha com a variação do pulseCount\n",
    "sb.lineplot(data=clienteAnalise, x='datetime', y='variacaoPulseCount', legend=False)\n",
    "#Chama as colunas antes e depois da anomalia\n",
    "clienteAnalise.loc[clienteAnalise.variacaoPulseCount.idxmin()-1:clienteAnalise.variacaoPulseCount.idxmin()+1]"
   ]
  },
  {
   "cell_type": "markdown",
   "metadata": {},
   "source": [
    "<h1>Análise de variação:</h1>\n"
   ]
  },
  {
   "cell_type": "code",
   "execution_count": null,
   "metadata": {},
   "outputs": [],
   "source": [
    "#Garante que os dados estão organizados por data\n",
    "dadosVariacao = merged_df.sort_values(by='datetime')\n",
    "#Calcula a variação do pulseCount, cria uma coluna nova com esse valor\n",
    "dadosVariacao['variacaoPulseCount'] = dadosVariacao.groupby([\"meterSN\", \"clientCode\"])['pulseCount'].diff()\n",
    "#A primeira linha tem a variação nula, conserta com o valor do pulseCount inicial\n",
    "dadosVariacao['variacaoPulseCount'].fillna(dadosVariacao['pulseCount'], inplace=True)\n",
    "#Verifica outro cliente com anomalia\n",
    "variacaoClienteUm = dadosVariacao[dadosVariacao['clientCode'].str.contains('f75e0ef3889a2489f049ebd8acd3066af576f0d012ba8f')]\n",
    "sb.lineplot(data=variacaoClienteUm, x='datetime', y='variacaoPulseCount', legend=False)"
   ]
  },
  {
   "cell_type": "code",
   "execution_count": null,
   "metadata": {},
   "outputs": [],
   "source": [
    "#Verifica a linha antes e depois da anomalia\n",
    "variacaoClienteUm.loc[variacaoClienteUm.variacaoPulseCount.idxmin()-1:variacaoClienteUm.variacaoPulseCount.idxmin()+1]"
   ]
  }
 ],
 "metadata": {
  "kernelspec": {
   "display_name": "Python 3",
   "language": "python",
   "name": "python3"
  },
  "language_info": {
   "codemirror_mode": {
    "name": "ipython",
    "version": 3
   },
   "file_extension": ".py",
   "mimetype": "text/x-python",
   "name": "python",
   "nbconvert_exporter": "python",
   "pygments_lexer": "ipython3",
   "version": "3.12.4"
  }
 },
 "nbformat": 4,
 "nbformat_minor": 2
}
