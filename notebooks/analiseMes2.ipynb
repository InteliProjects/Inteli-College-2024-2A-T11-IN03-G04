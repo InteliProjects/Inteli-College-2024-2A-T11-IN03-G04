{
 "cells": [
  {
   "cell_type": "code",
   "execution_count": null,
   "metadata": {},
   "outputs": [],
   "source": [
    "import pandas as pnd\n",
    "import numpy as np\n",
    "pnd.option_context('display.max_rows', 10)\n"
   ]
  },
  {
   "cell_type": "code",
   "execution_count": null,
   "metadata": {},
   "outputs": [],
   "source": [
    "#Chamando os dados do mes\n",
    "dados = pnd.read_csv('month_2.csv').sort_values(by='datetime')\n",
    "dados\n"
   ]
  },
  {
   "cell_type": "code",
   "execution_count": null,
   "metadata": {},
   "outputs": [],
   "source": [
    "dados.describe()\n",
    "#Não é uma duvida de código, é mais tipo QUE CARALHOS DE NUMERO\n",
    "#o engraçado é que fazzendo o boxplot TUDO é outlier\n",
    "#nao deveria ser\n",
    "#Só achei curioso"
   ]
  },
  {
   "cell_type": "code",
   "execution_count": null,
   "metadata": {},
   "outputs": [],
   "source": [
    "#Divide tudo em classes, não retorna nada porque não pedimos para retornar\n",
    "classes = [0, 2000, 10000, 100000, 500000]\n",
    "labels = ['Muito Pouco', 'Pouco', 'Médio', 'Muito']\n",
    "porcentagemValores = pnd.value_counts(pnd.cut(x = dados.pulseCount, bins = classes, labels=labels, include_lowest=True), normalize = True) * 100\n",
    "quantidadeValores = pnd.value_counts(pnd.cut(x=dados.pulseCount, bins = classes, labels=labels, include_lowest=True))\n",
    "dataFreqPor =pnd.DataFrame({'Frequencia': quantidadeValores, 'Porcentagem': porcentagemValores})\n"
   ]
  },
  {
   "cell_type": "code",
   "execution_count": null,
   "metadata": {},
   "outputs": [],
   "source": [
    "#Usando a formula de Sturges para fazer a separação\n",
    "n = dados.shape[0]\n",
    "k = 1+(10/3) * np.log10(n)\n",
    "k = int(k.round(0))\n",
    "print(dados.pulseCount.min())\n",
    "dataSturges = pnd.value_counts(pnd.cut(x=dados.pulseCount, bins=20, include_lowest=True), normalize=True, sort=False)*100\n",
    "dataSturges"
   ]
  },
  {
   "cell_type": "code",
   "execution_count": null,
   "metadata": {},
   "outputs": [],
   "source": [
    "#Aqui claramente percebemos que não funciona sem limpar os dados\n",
    "import seaborn as sb\n",
    "dados.pulseCount.hist(bins=20, figsize=(12,6))\n",
    "ax = sb.histplot(dados.pulseCount, kde=True)\n",
    "ax.figure.set_size_inches(12,6)\n",
    "ax.set_title('Distribuição da frequência de pulsos', fontsize=18)\n",
    "ax.set_xlabel('Consumo', fontsize=10)"
   ]
  },
  {
   "cell_type": "code",
   "execution_count": null,
   "metadata": {},
   "outputs": [],
   "source": [
    "frequenciaGasto = pnd.value_counts(pnd.cut(x=dados.meterIndex, bins=20, include_lowest=True))\n",
    "graficoFrequenciaGasto = pnd.DataFrame({'Frequencia': frequenciaGasto})\n",
    "graficoFrequenciaGasto['Frequencia'].plot.bar(width=1, color='blue', figsize=(12,6))\n",
    "dados.pulseCount.describe()\n",
    "\n"
   ]
  },
  {
   "cell_type": "code",
   "execution_count": null,
   "metadata": {},
   "outputs": [],
   "source": [
    "#Gráfico limitando a contagem. Ainda sem a correção\n",
    "ax = sb.histplot(dados.query('pulseCount < 100000').pulseCount, bins=20)\n",
    "ax.figure.set_size_inches(12,6)\n",
    "ax"
   ]
  },
  {
   "cell_type": "code",
   "execution_count": null,
   "metadata": {},
   "outputs": [],
   "source": [
    "#Moda, média e mediana. Vale a pena tentar com os dados corrigidos\n",
    "moda = dados.pulseCount.mode()\n",
    "mediana = dados.pulseCount.median()\n",
    "media = dados.pulseCount.mean()\n",
    "print('Média: %f, Mediana: %f, Moda: %f' % (media, mediana, moda))"
   ]
  },
  {
   "cell_type": "code",
   "execution_count": null,
   "metadata": {},
   "outputs": [],
   "source": [
    "#Tentativa extremamente falha de fazer um boxplot. Como eu era ingênuo achando que ia ser fácil\n",
    "ax = sb.boxplot(x= 'pulseCount', data=dados, orient='h')\n",
    "ax.figure.set_size_inches(12,6)\n",
    "ax.set_title('Boxplot da frequência de pulsos', fontsize=18)\n",
    "ax.set_xlabel('Consumo', fontsize=14)\n",
    "ax"
   ]
  },
  {
   "cell_type": "code",
   "execution_count": null,
   "metadata": {},
   "outputs": [],
   "source": [
    "#Tentativa de dividir os dados em decis. Vale a pena avaliar depois de consertar a desgraça que está depois no código\n",
    "print(dados.meterIndex.quantile([i / 10 for i in range(1, 10)])) #Decis\n",
    "print(dados.meterIndex.max()) #Alguma coisa parece severamente errada com o valor máximo\n",
    "moda = dados.meterIndex.mode()\n",
    "mediana = dados.meterIndex.median()\n",
    "media = dados.meterIndex.mean()#Nédia também está muito estranha, esses dados estão ao longo do grafico inteiro\n",
    "print('Média: %f, Mediana: %f, Moda: %f' % (media, mediana, moda))"
   ]
  },
  {
   "cell_type": "code",
   "execution_count": null,
   "metadata": {},
   "outputs": [],
   "source": [
    "#Esse é o famoso cliente que existe no medidor e não existe nas informacoes cadastrais. Isso me fez dar uma volta que só Deus sabe a lógica que implementei\n",
    "maxValueIndex = dados['pulseCount'].idxmax()\n",
    "maxValueRow = dados.loc[maxValueIndex]\n",
    "print(maxValueRow)"
   ]
  },
  {
   "cell_type": "code",
   "execution_count": null,
   "metadata": {},
   "outputs": [],
   "source": [
    "#Cria uma função extendida de descrever\n",
    "def describeExtended(data):\n",
    "    description = data.describe()\n",
    "    description.loc['var'] = data.var()\n",
    "    description.loc['median'] = data.median()\n",
    "    description.loc['mode'] = data.mode().iloc[0]\n",
    "    return description"
   ]
  },
  {
   "cell_type": "code",
   "execution_count": null,
   "metadata": {},
   "outputs": [],
   "source": [
    "#PulseCount\n",
    "print(describeExtended(dados.pulseCount))"
   ]
  },
  {
   "cell_type": "code",
   "execution_count": null,
   "metadata": {},
   "outputs": [],
   "source": [
    "#MeterIndex\n",
    "print(describeExtended(dados.meterIndex))"
   ]
  },
  {
   "cell_type": "code",
   "execution_count": null,
   "metadata": {},
   "outputs": [],
   "source": [
    "#InitialIndex\n",
    "print(describeExtended(dados.initialIndex))"
   ]
  },
  {
   "cell_type": "code",
   "execution_count": null,
   "metadata": {},
   "outputs": [],
   "source": [
    "#Chama a tabela de informação cadastral e verifica quantos tipos de situação tem; São 4 se está curioso\n",
    "dadosCadastrais = pnd.read_csv('informacao_cadastral.csv')\n",
    "dadosCadastrais['situacao'].unique()"
   ]
  },
  {
   "cell_type": "code",
   "execution_count": null,
   "metadata": {},
   "outputs": [],
   "source": [
    "#O nome é bem explicativo, foi minha verificação que cada sensor poderia ter mais de um cliente\n",
    "sensorBabaca = dados[dados['meterSN'].str.contains('002A93068D6C')]\n",
    "sensorBabaca"
   ]
  },
  {
   "cell_type": "code",
   "execution_count": null,
   "metadata": {},
   "outputs": [],
   "source": [
    "aaaaaaaaaaaaaaaaa = dados[dados['meterSN'].str.contains('E0D5407L3025')].sort_values(by='datetime')\n",
    "aaaaaaaaaaaaaaaaa\n",
    "dados['inputType'].unique()\n"
   ]
  },
  {
   "cell_type": "code",
   "execution_count": null,
   "metadata": {},
   "outputs": [],
   "source": [
    "#Nesse momento o código está calculando a base do pulseCount com referência ao contador\n",
    "#O problema é que tem contadores com mais de um cliente, mais de um tipo de medidor e medidas COMPLETAMENTE DIFERENTES\n",
    "#Focar no código do cliente ao invés do meterSN é inútil da mesma maneira, um cliente tem mais de um medidor\n",
    "usuariosUnicos = dadosCadastrais[dadosCadastrais.situacao == 'CONSUMINDO GÁS']['clientCode'].unique()\n",
    "mesFiltrado = dados[dados['clientCode'].isin(usuariosUnicos)].sort_values(by='datetime')\n",
    "mesFiltrado = mesFiltrado[mesFiltrado['meterSN'] != '>N<A']\n",
    "resultado = mesFiltrado.groupby(['meterSN', 'clientCode']).first()\n",
    "resultado = resultado[['pulseCount']]\n",
    "final = pnd.DataFrame({'pulseCount2': resultado.pulseCount})\n",
    "merged_df = pnd.merge(dados, final, on=['meterSN', 'clientCode'], how='left')\n",
    "merged_df['pulseCount'] = merged_df['pulseCount'] - merged_df['pulseCount2']\n",
    "merged_df.describe()"
   ]
  },
  {
   "cell_type": "code",
   "execution_count": null,
   "metadata": {},
   "outputs": [],
   "source": [
    "merged_df.loc[merged_df.pulseCount.idxmin()]"
   ]
  },
  {
   "cell_type": "code",
   "execution_count": null,
   "metadata": {},
   "outputs": [],
   "source": [
    "dadosComparacao = merged_df[merged_df['clientCode'].str.contains('4b2b41142406be0d6b8c4f660d757b8a5c8c3307395eca') | merged_df['clientCode'].str.contains('cd52774601bea7ac814b4bbb41be1b9f3eae936dd63128')]\n",
    "sb.lineplot(x='datetime', y='pulseCount', hue='clientCode', data=dadosComparacao)"
   ]
  },
  {
   "cell_type": "code",
   "execution_count": null,
   "metadata": {},
   "outputs": [],
   "source": [
    "merged_df.to_csv('month_2_clean.csv', index=False)"
   ]
  },
  {
   "cell_type": "code",
   "execution_count": null,
   "metadata": {},
   "outputs": [],
   "source": [
    "#Esse gráfico ainda não tá funcionando\n",
    "print(merged_df.pulseCount.max)\n",
    "sb.displot(data=merged_df, x='pulseCount', fill=True)"
   ]
  },
  {
   "cell_type": "code",
   "execution_count": null,
   "metadata": {},
   "outputs": [],
   "source": [
    "#Lembrar de arrumar\n",
    "#ultimoDoMes = mesFiltrado.groupby(['meterSN', 'clientCode']).last()\n",
    "#sb.histplot( x='pulseCount', hue='clientCode', data=ultimoDoMes, legend=False)"
   ]
  }
 ],
 "metadata": {
  "kernelspec": {
   "display_name": ".venv",
   "language": "python",
   "name": "python3"
  },
  "language_info": {
   "codemirror_mode": {
    "name": "ipython",
    "version": 3
   },
   "file_extension": ".py",
   "mimetype": "text/x-python",
   "name": "python",
   "nbconvert_exporter": "python",
   "pygments_lexer": "ipython3",
   "version": "3.12.4"
  }
 },
 "nbformat": 4,
 "nbformat_minor": 2
}
