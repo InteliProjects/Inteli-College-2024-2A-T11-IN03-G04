{
 "cells": [
  {
   "cell_type": "code",
   "execution_count": 1,
   "metadata": {},
   "outputs": [],
   "source": [
    "# Bibliotecas Importadas\n",
    "import seaborn as sb\n",
    "import matplotlib.pyplot as plt\n",
    "import pandas as pnd\n",
    "import numpy as np\n",
    "from sklearn.tree import DecisionTreeClassifier\n",
    "from sklearn.model_selection import train_test_split, GridSearchCV\n",
    "from sklearn.metrics import classification_report, confusion_matrix, roc_auc_score\n",
    "from sklearn import svm\n",
    "from sklearn.ensemble import RandomForestClassifier\n",
    "from sklearn.preprocessing import LabelEncoder\n",
    "from sklearn.tree import ExtraTreeClassifier"
   ]
  },
  {
   "cell_type": "code",
   "execution_count": null,
   "metadata": {},
   "outputs": [],
   "source": [
    "listas = ['month_2.csv', 'month_3.csv', 'month_4.csv', 'month_5.csv', 'month_6.csv']\n",
    "df = []\n",
    "for arquivo in listas:\n",
    "    df += [pnd.read_csv(arquivo)]\n",
    "#Concatena todos os dataframes em um único dataframe chamado df\n",
    "df = pnd.concat(df)\n",
    "#Chama o dataframe contido na variável chamada df\n",
    "dadosCadastrais = pnd.read_csv('informacao_cadastral.csv')\n",
    "usuariosUnicos = dadosCadastrais[dadosCadastrais.situacao == 'CONSUMINDO GÁS']['clientCode'].unique() \n",
    "#Organiza os dados dos usuários filtrados pela data\n",
    "mesFiltrado = df[df['clientCode'].isin(usuariosUnicos)].sort_values(by='datetime') \n",
    "#Filtra meterSN diferente de '>N<A'\n",
    "df = mesFiltrado[mesFiltrado['meterSN'] != '>N<A']\n",
    "#Garante que todas as linhas com gain nulo sejam preenchidas com 1. Não é garantido que é o valor correto, mas é o melhor que podemos fazer\n",
    "df['gain'].fillna(1, inplace=True)\n",
    "#Corrige os pulsos para m²\n",
    "df['pulseCount'] = df['pulseCount'] * df['gain']\n",
    "#Cria a variação do pulseCount como uma coluna nova, calculando por grupo a diferença\n",
    "df['datetime'] = pnd.to_datetime(df['datetime'])\n",
    "df['dateTimeSegundos'] = df['datetime'].astype(np.int64) // 10**9\n",
    "df['diffDateTime'] = df.groupby(['clientCode', 'meterSN']).dateTimeSegundos.diff()\n",
    "df['diffPulseCount'] = df.groupby(['clientCode', 'meterSN']).pulseCount.diff()\n",
    "df['diffPulseCountTempo'] = df['diffPulseCount'] / df['diffDateTime']\n",
    "#Preenche os valores nulos (iniciais) com 0\n",
    "df['diffDateTime'].fillna(0, inplace=True) \n",
    "df['diffPulseCount'].fillna(0, inplace=True)\n",
    "df['diffPulseCountTempo'].fillna(0, inplace=True)\n",
    "#Reseta o index\n",
    "df.reset_index(drop=True, inplace=True)\n",
    "#Seleciona as colunas que serão usadas\n",
    "df = df[['clientCode', 'meterSN', \"pulseCount\", 'diffPulseCount','datetime', 'diffDateTime', 'diffPulseCountTempo', 'dateTimeSegundos']]\n",
    "#Calcula a média e o desvio padrão do diffPulseCount por cliente\n",
    "df['mediaCliente'] = df.groupby(['clientCode', 'meterSN']).diffPulseCount.transform('mean')\n",
    "df['desvioPadraoCliente'] = df.groupby(['clientCode', 'meterSN']).diffPulseCount.transform('std')\n",
    "df['diffDateTime'].describe()"
   ]
  },
  {
   "cell_type": "code",
   "execution_count": null,
   "metadata": {},
   "outputs": [],
   "source": [
    "dfCliente = df[df['clientCode'].str.contains('b484c8b5ec41d7d82abdfda82fd5f14c076db223dbd2bc')]\n",
    "dfCliente.sort_values(by='datetime', inplace=True)\n",
    "dfCliente.reset_index(drop=True, inplace=True)\n",
    "dfCliente"
   ]
  },
  {
   "cell_type": "markdown",
   "metadata": {},
   "source": [
    "# Análise de anomalias\n"
   ]
  },
  {
   "cell_type": "markdown",
   "metadata": {},
   "source": [
    "### Início com todos os casos classificados como normal"
   ]
  },
  {
   "cell_type": "code",
   "execution_count": null,
   "metadata": {},
   "outputs": [],
   "source": [
    "df.sort_values(by='diffDateTime', inplace=True, ascending=False)\n",
    "df.reset_index(drop=True, inplace=True)\n",
    "df[df['diffDateTime'] < 90000]"
   ]
  },
  {
   "cell_type": "code",
   "execution_count": null,
   "metadata": {},
   "outputs": [],
   "source": [
    "# Filtrando e ordenando os dados por cliente e tempo\n",
    "dfCliente = df[df['clientCode'].str.contains('9479bbab64308ce0789119e6dc874805d07f386dd45c98')]\n",
    "dfCliente.sort_values(by='datetime', inplace=True)\n",
    "\n",
    "# Plotando o gráfico de diffDateTime ao longo do tempo\n",
    "plt.figure(figsize=(12, 6))\n",
    "plt.plot(dfCliente['datetime'], dfCliente['diffDateTime'], marker='o', linestyle='-', color='r')\n",
    "plt.title('Variação do diffDateTime ao longo do tempo')\n",
    "plt.xlabel('Data e Hora')\n",
    "plt.ylabel('Diff DateTime (segundos)')\n",
    "plt.xticks(rotation=45)\n",
    "plt.grid(True)\n",
    "plt.tight_layout()"
   ]
  },
  {
   "cell_type": "code",
   "execution_count": null,
   "metadata": {},
   "outputs": [],
   "source": [
    "# Filtrando e ordenando os dados por cliente e tempo\n",
    "dfCliente = df[df['clientCode'].str.contains('b4e5384402e135d94a96529f98c6eda68017dd25628243')]\n",
    "dfCliente.sort_values(by='datetime', inplace=True)\n",
    "\n",
    "# Plotando o gráfico de diffDateTime ao longo do tempo\n",
    "plt.figure(figsize=(12, 6))\n",
    "plt.plot(dfCliente['datetime'], dfCliente['diffPulseCountTempo'], marker='o', linestyle='-', color='r')\n",
    "plt.title('Variação do diffDateTime ao longo do tempo')\n",
    "plt.xlabel('Data e Hora')\n",
    "plt.ylabel('Diff DateTime (segundos)')\n",
    "plt.xticks(rotation=45)\n",
    "plt.grid(True)\n",
    "plt.tight_layout()"
   ]
  },
  {
   "cell_type": "code",
   "execution_count": null,
   "metadata": {},
   "outputs": [],
   "source": [
    "dfCliente.sort_values(by='diffDateTime', inplace=True, ascending=False)\n",
    "dfCliente.reset_index(drop=True, inplace=True)\n",
    "dfCliente[dfCliente['diffDateTime'] < 90000]"
   ]
  },
  {
   "cell_type": "code",
   "execution_count": null,
   "metadata": {},
   "outputs": [],
   "source": [
    "# Filtrando e ordenando os dados por cliente e tempo\n",
    "dfCliente = df[df['clientCode'].str.contains('41462ff695d437dfe98a3379e01b48773da62c8f418889')]\n",
    "dfCliente.sort_values(by='datetime', inplace=True)\n",
    "\n",
    "# Plotando o gráfico de diffDateTime ao longo do tempo\n",
    "plt.figure(figsize=(12, 6))\n",
    "plt.plot(dfCliente['datetime'], dfCliente['diffDateTime'], marker='o', linestyle='-', color='r')\n",
    "plt.title('Variação do diffDateTime ao longo do tempo')\n",
    "plt.xlabel('Data e Hora')\n",
    "plt.ylabel('Diff DateTime (segundos)')\n",
    "plt.xticks(rotation=45)\n",
    "plt.grid(True)\n",
    "plt.tight_layout()"
   ]
  },
  {
   "cell_type": "code",
   "execution_count": null,
   "metadata": {},
   "outputs": [],
   "source": [
    "df['mediaPCTCliente'] = df.groupby(['clientCode', 'meterSN']).diffPulseCountTempo.transform('mean')\n",
    "df['desvioPadraoPCTCliente'] = df.groupby(['clientCode', 'meterSN']).diffPulseCountTempo.transform('std')\n",
    "\n",
    "df['tipo'] = \"c\"\n",
    "\n",
    "#Classifica os inidivíduos sem medições por longos períodos de tempo\n",
    "df.loc[df['diffDateTime'] > 86400, 'tipo'] = \"sm1\"\n",
    "df.loc[df['diffDateTime'] > 604800, 'tipo'] = \"sm7\"\n",
    "df.loc[df['diffDateTime'] > 2592000, 'tipo'] = \"sm30\"\n",
    "\n",
    "#Classifica consumo acima de 3 desvio padrão, consumo negativo e consumo zerado\n",
    "df.loc[df['diffPulseCountTempo'] > df['mediaPCTCliente'] + 3 * df['desvioPadraoPCTCliente'], 'tipo'] = \"dp3\"\n",
    "df.loc[df['diffPulseCountTempo'] < 0, 'tipo'] = \"cn\"\n",
    "df.loc[(df['pulseCount'] == 0) & (df['diffPulseCountTempo'] < 0), 'tipo'] = \"cz\"\n",
    "\n",
    "print(df.tipo.value_counts())\n",
    "df"
   ]
  },
  {
   "cell_type": "code",
   "execution_count": 10,
   "metadata": {},
   "outputs": [],
   "source": [
    "df.dropna(inplace=True)"
   ]
  },
  {
   "cell_type": "markdown",
   "metadata": {},
   "source": [
    "### Modelo DecisionTreeClassifier"
   ]
  },
  {
   "cell_type": "code",
   "execution_count": null,
   "metadata": {},
   "outputs": [],
   "source": [
    "from sklearn.utils import resample\n",
    "# Selecionando as variáveis de entrada (features) e a variável alvo (target)\n",
    "X = df[['diffPulseCountTempo', 'mediaPCTCliente', 'desvioPadraoPCTCliente', 'diffDateTime']]  # Features\n",
    "y = df['tipo']  # Target\n",
    "\n",
    "# Dividindo os dados em conjunto de treino e teste\n",
    "X_train, X_test, y_train, y_test = train_test_split(X, y, test_size=0.2, random_state=42)\n",
    "X_majority = X_test[y_test == 'c']\n",
    "X_minority = X_test[y_test != 'c']\n",
    "y_majority = y_test[y_test == 'c']\n",
    "y_minority = y_test[y_test != 'c']\n",
    "X_majority_downsampled, y_majority_downsampled = resample(X_majority, y_majority, replace=False, n_samples=len(X_minority), random_state=42)\n",
    "X_test_balanced = pnd.concat([X_majority_downsampled, X_minority])\n",
    "y_test_balanced = pnd.concat([y_majority_downsampled, y_minority])\n",
    "\n",
    "# Criando e treinando o modelo de Árvore de Decisão\n",
    "clf = DecisionTreeClassifier(random_state=42, class_weight='balanced')\n",
    "clf.fit(X_train, y_train)\n",
    "\n",
    "# Fazendo previsões no conjunto de teste\n",
    "y_pred = clf.predict(X_test_balanced)\n",
    "\n",
    "# Avaliando o modelo\n",
    "print(\"Matriz de Confusão:\\n\", confusion_matrix(y_test_balanced, y_pred))\n",
    "print(\"\\nRelatório de Classificação:\\n\", classification_report(y_test_balanced, y_pred))\n"
   ]
  },
  {
   "cell_type": "code",
   "execution_count": null,
   "metadata": {},
   "outputs": [],
   "source": [
    "from sklearn.model_selection import train_test_split, GridSearchCV\n",
    "grid_param ={\n",
    "    'criterion': ['gini', 'entropy'],\n",
    "    'max_depth' : [None, 10,30,50,100],\n",
    "    'min_samples_leaf' : [1, 2, 10],\n",
    "    'min_samples_split': [2, 5, 10],\n",
    "    'splitter' : ['best', 'random'],\n",
    "    'max_features': [None, 'sqrt', 'log2'],\n",
    "    'random_state': [42]\n",
    "}\n",
    "modeloAParametrar = DecisionTreeClassifier()\n",
    "modeloParametrado = GridSearchCV(estimator=modeloAParametrar, param_grid=grid_param, cv=5, n_jobs=-1, scoring=['accuracy', 'precision'], refit='precision', verbose=2)\n",
    "modeloParametrado.fit(X_train, y_train)\n",
    "print(\"Melhores parâmetros:\\n\", modeloParametrado.best_params_)\n",
    "y_pred = modeloParametrado.predict(X_test)\n",
    "print('****************************************')\n",
    "print(classification_report(y_test, y_pred))\n",
    "print('****************************************')"
   ]
  },
  {
   "cell_type": "markdown",
   "metadata": {},
   "source": [
    "### Modelo Random Forest "
   ]
  },
  {
   "cell_type": "code",
   "execution_count": null,
   "metadata": {},
   "outputs": [],
   "source": [
    "# Selecionando as variáveis de entrada (features) e a variável alvo (target)\n",
    "X = df[['diffPulseCountTempo', 'mediaPCTCliente', 'desvioPadraoPCTCliente', 'diffDateTime']]  # Features\n",
    "y = df['tipo']  # Target\n",
    "\n",
    "# Dividindo os dados em conjunto de treino e teste\n",
    "X_train, X_test, y_train, y_test = train_test_split(X, y, test_size=0.2, random_state=42)\n",
    "\n",
    "# Criando e treinando o modelo de Random Forest\n",
    "rf_clf = RandomForestClassifier(n_estimators=100, random_state=42, n_jobs = -1)\n",
    "rf_clf.fit(X_train, y_train)\n",
    "\n",
    "# Fazendo previsões no conjunto de teste\n",
    "y_pred_rf = rf_clf.predict(X_test)\n",
    "\n",
    "# Avaliando o modelo\n",
    "print(\"Matriz de Confusão:\\n\", confusion_matrix(y_test, y_pred_rf))\n",
    "print(\"\\nRelatório de Classificação:\\n\", classification_report(y_test, y_pred_rf))\n"
   ]
  },
  {
   "cell_type": "markdown",
   "metadata": {},
   "source": [
    "### Modelo Extra Trees Classifier"
   ]
  },
  {
   "cell_type": "code",
   "execution_count": null,
   "metadata": {},
   "outputs": [],
   "source": [
    "#verificando e excluindo valores nulos do desvioPadraoPCTCliente\n",
    "print (df['desvioPadraoPCTCliente'].isna().sum())\n",
    "df = df.dropna(subset=['desvioPadraoPCTCliente'])\n",
    "print (df['desvioPadraoPCTCliente'].isna().sum())"
   ]
  },
  {
   "cell_type": "code",
   "execution_count": null,
   "metadata": {},
   "outputs": [],
   "source": [
    "# Importando as bibliotecas necessárias\n",
    "from sklearn.model_selection import train_test_split\n",
    "from sklearn.ensemble import ExtraTreesClassifier\n",
    "from sklearn.metrics import confusion_matrix, classification_report\n",
    "\n",
    "# Selecionando as variáveis de entrada (features) e a variável alvo (target)\n",
    "X = df[['diffPulseCountTempo', 'mediaPCTCliente', 'desvioPadraoPCTCliente', 'diffDateTime']]  # Features\n",
    "y = df['tipo']  # Target\n",
    "\n",
    "# Dividindo os dados em conjunto de treino e teste\n",
    "X_train, X_test, y_train, y_test = train_test_split(X, y, test_size=0.2, random_state=42)\n",
    "\n",
    "# Criando e treinando o modelo de Extra Trees\n",
    "et_clf = ExtraTreesClassifier(n_estimators=100, random_state=42, n_jobs=-1)\n",
    "et_clf.fit(X_train, y_train)\n",
    "\n",
    "# Fazendo previsões no conjunto de teste\n",
    "y_pred_et = et_clf.predict(X_test)\n",
    "\n",
    "# Avaliando o modelo\n",
    "print(\"Matriz de Confusão:\\n\", confusion_matrix(y_test, y_pred_et))\n",
    "print(\"\\nRelatório de Classificação:\\n\", classification_report(y_test, y_pred_et))\n"
   ]
  },
  {
   "cell_type": "markdown",
   "metadata": {},
   "source": [
    "### Modelo Extra Tree Classifier"
   ]
  },
  {
   "cell_type": "code",
   "execution_count": null,
   "metadata": {},
   "outputs": [],
   "source": [
    "# Selecionando as variáveis de entrada (features) e a variável alvo (target)\n",
    "X = df[['diffPulseCountTempo', 'mediaPCTCliente', 'desvioPadraoPCTCliente', 'diffDateTime']]  # Features\n",
    "y = df['tipo']  # Target\n",
    "\n",
    "# Dividindo os dados em conjunto de treino e teste\n",
    "X_train, X_test, y_train, y_test = train_test_split(X, y, test_size=0.2, random_state=42)\n",
    "\n",
    "# Criando e treinando o modelo Extra Tree\n",
    "et_clf = ExtraTreeClassifier(random_state=42)\n",
    "et_clf.fit(X_train, y_train)\n",
    "\n",
    "# Fazendo previsões no conjunto de teste\n",
    "y_pred_et = et_clf.predict(X_test)\n",
    "\n",
    "# Avaliando o modelo\n",
    "print(\"Matriz de Confusão:\\n\", confusion_matrix(y_test, y_pred_et))\n",
    "print(\"\\nRelatório de Classificação:\\n\", classification_report(y_test, y_pred_et))"
   ]
  }
 ],
 "metadata": {
  "kernelspec": {
   "display_name": "Python 3",
   "language": "python",
   "name": "python3"
  },
  "language_info": {
   "codemirror_mode": {
    "name": "ipython",
    "version": 3
   },
   "file_extension": ".py",
   "mimetype": "text/x-python",
   "name": "python",
   "nbconvert_exporter": "python",
   "pygments_lexer": "ipython3",
   "version": "3.12.6"
  }
 },
 "nbformat": 4,
 "nbformat_minor": 2
}
