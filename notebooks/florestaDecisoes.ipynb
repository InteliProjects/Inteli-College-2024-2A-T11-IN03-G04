{
 "cells": [
  {
   "cell_type": "code",
   "execution_count": 1,
   "metadata": {},
   "outputs": [],
   "source": [
    "import seaborn as sb\n",
    "import matplotlib.pyplot as plt\n",
    "import pandas as pnd\n",
    "import numpy as np\n",
    "from sklearn.tree import DecisionTreeClassifier\n",
    "from sklearn.model_selection import train_test_split, GridSearchCV\n",
    "from sklearn.metrics import classification_report, confusion_matrix, roc_auc_score\n",
    "from sklearn import svm\n",
    "from sklearn.ensemble import RandomForestClassifier"
   ]
  },
  {
   "cell_type": "code",
   "execution_count": null,
   "metadata": {},
   "outputs": [],
   "source": [
    "\n",
    "listas = ['month_2.csv', 'month_3.csv', 'month_4.csv', 'month_5.csv', 'month_6.csv']\n",
    "df = []\n",
    "for arquivo in listas:\n",
    "    df += [pnd.read_csv(arquivo)]\n",
    "# Concatena todos os dataframes em um único dataframe chamado df\n",
    "df = pnd.concat(df)\n",
    "# Chama o dataframe contido na variável chamada df\n",
    "dadosCadastrais = pnd.read_csv('informacao_cadastral.csv')\n",
    "usuariosUnicos = dadosCadastrais[dadosCadastrais.situacao == 'CONSUMINDO GÁS']['clientCode'].unique() \n",
    "# Organiza os dados dos usuários filtrados pela data\n",
    "mesFiltrado = df[df['clientCode'].isin(usuariosUnicos)].sort_values(by='datetime') \n",
    "# Filtra meterSN diferente de '>N<A'\n",
    "df = mesFiltrado[mesFiltrado['meterSN'] != '>N<A']\n",
    "df['gain'].fillna(1, inplace=True)\n",
    "df['pulseCount'] = df['pulseCount'] * df['gain']\n",
    "\n",
    "df['diffPulseCount'] = df.groupby(['clientCode', 'meterSN']).pulseCount.diff()\n",
    "df['diffPulseCount'].fillna(0, inplace=True)\n",
    "df.reset_index(drop=True, inplace=True)\n",
    "df = df[['clientCode', 'meterSN', \"pulseCount\", 'diffPulseCount','datetime']]\n",
    "df['mediaCliente'] = df.groupby(['clientCode', 'meterSN']).diffPulseCount.transform('mean')\n",
    "df['desvioPadraoCliente'] = df.groupby(['clientCode', 'meterSN']).diffPulseCount.transform('std')\n",
    "df"
   ]
  },
  {
   "cell_type": "code",
   "execution_count": null,
   "metadata": {},
   "outputs": [],
   "source": [
    "df['tipo'] = 0\n",
    "print(df)\n",
    "df.loc[df['diffPulseCount'] > df['mediaCliente'] + 3 * df['desvioPadraoCliente'], 'tipo'] = 3\n",
    "df.loc[df['diffPulseCount'] < 0, 'tipo'] = 1\n",
    "df.loc[(df['pulseCount'] == 0) & (df['diffPulseCount'] < 0), 'tipo'] = 2\n",
    "df.tipo.value_counts()"
   ]
  },
  {
   "cell_type": "code",
   "execution_count": null,
   "metadata": {},
   "outputs": [],
   "source": [
    "features = ['pulseCount', 'diffPulseCount']\n",
    "x = df[features]\n",
    "y = df['tipo']\n",
    "x_train, x_test, y_train, y_test = train_test_split(x, y, test_size=0.2, random_state=42)\n",
    "classifier = DecisionTreeClassifier()\n",
    "classifier.fit(x_train, y_train)\n",
    "y_pred = classifier.predict(x_test)\n",
    "y_prob = classifier.predict_proba(x_test)\n",
    "print(\"**************************************************************************************\")\n",
    "print(classification_report(y_test, y_pred))\n",
    "print(confusion_matrix(y_test, y_pred))\n",
    "print(roc_auc_score(y_test, y_prob, multi_class='ovr'))\n",
    "print(\"**************************************************************************************\")"
   ]
  },
  {
   "cell_type": "markdown",
   "metadata": {},
   "source": [
    "# Agora estou tentando parametros diferentes para o teste, visando tentar melhorar a acurácia"
   ]
  },
  {
   "cell_type": "code",
   "execution_count": null,
   "metadata": {},
   "outputs": [],
   "source": [
    "#Verificando os valores padrões da árvore de decisão\n",
    "classifier.get_params()\n",
    "#Criando um grid de parametros; Obrigado https://scikit-learn.org/stable/modules/generated/sklearn.model_selection.GridSearchCV.html#sklearn.model_selection.GridSearchCV e https://scikit-learn.org/stable/modules/generated/sklearn.tree.DecisionTreeClassifier.html amo ler documentação\n",
    "grid_parametros = {\n",
    "    'max_depth': [3, 5, 7, 9, 11, 13, None],\n",
    "    'criterion': ['gini', 'entropy'],\n",
    "    'splitter': ['best', 'random'],\n",
    "    'min_samples_split': [2, 5, 10],\n",
    "    'max_features': [None, 'sqrt', 'log2'],\n",
    "    'random_state': [42, None]\n",
    "}\n",
    "busca_grid = GridSearchCV(classifier, grid_parametros, cv=5, scoring='accuracy', n_jobs=-1)\n",
    "busca_grid.fit(x_train, y_train)\n",
    "melhor_classificador = busca_grid.best_estimator_\n",
    "print('************************************************************************************************')\n",
    "print(melhor_classificador)"
   ]
  },
  {
   "cell_type": "code",
   "execution_count": null,
   "metadata": {},
   "outputs": [],
   "source": [
    "features = ['pulseCount', 'diffPulseCount']\n",
    "x = df[features]\n",
    "y = df['tipo']\n",
    "x_train, x_test, y_train, y_test = train_test_split(x, y, test_size=0.2, random_state=42)\n",
    "classifier = DecisionTreeClassifier(criterion='entropy',max_depth=9, min_samples_split=10)\n",
    "classifier.fit(x_train, y_train)\n",
    "y_pred = classifier.predict(x_test)\n",
    "print(\"**************************************************************************************\")\n",
    "print(classification_report(y_test, y_pred))\n",
    "print(confusion_matrix(y_test, y_pred))\n",
    "print(\"**************************************************************************************\")"
   ]
  },
  {
   "cell_type": "code",
   "execution_count": null,
   "metadata": {},
   "outputs": [],
   "source": [
    "classifier = RandomForestClassifier(n_jobs=-1)\n",
    "classifier.fit(x_train, y_train)\n",
    "y_pred = classifier.predict(x_test)\n",
    "print(classification_report(y_test, y_pred))\n",
    "print(confusion_matrix(y_test, y_pred))"
   ]
  },
  {
   "cell_type": "code",
   "execution_count": null,
   "metadata": {},
   "outputs": [],
   "source": [
    "classifier.get_params()\n",
    "grid_parametros = {\n",
    "    'max_depth': [ 5, 11, 13, None],\n",
    "    'criterion': ['gini', 'entropy'],\n",
    "    'min_samples_split': [2, 5, 10],\n",
    "    'max_features': [None, 'sqrt', 'log2'],\n",
    "    'random_state': [42],\n",
    "    'n_jobs': [-1]\n",
    "}\n",
    "busca_grid = GridSearchCV(classifier, grid_parametros, cv=5, scoring='accuracy', n_jobs=-1)\n",
    "busca_grid.fit(x_train, y_train)\n",
    "melhor_classificador = busca_grid.best_estimator_\n",
    "print('************************************************************************************************')\n",
    "print(melhor_classificador)"
   ]
  },
  {
   "cell_type": "code",
   "execution_count": null,
   "metadata": {},
   "outputs": [],
   "source": [
    "features = ['pulseCount', 'diffPulseCount']\n",
    "x = df[features]\n",
    "y = df['tipo']\n",
    "x_train, x_test, y_train, y_test = train_test_split(x, y, test_size=0.2, random_state=42)\n",
    "classifier = RandomForestClassifier(criterion='entropy', max_depth=11, min_samples_split=5, n_jobs=-1,random_state=42, n_estimators=100)\n",
    "classifier.fit(x_train, y_train)\n",
    "y_pred = classifier.predict(x_test)\n",
    "print('***************************************************************************************')\n",
    "print(classification_report(y_test, y_pred))\n",
    "print(confusion_matrix(y_test, y_pred))\n",
    "print('***************************************************************************************')"
   ]
  }
 ],
 "metadata": {
  "kernelspec": {
   "display_name": "Python 3",
   "language": "python",
   "name": "python3"
  },
  "language_info": {
   "codemirror_mode": {
    "name": "ipython",
    "version": 3
   },
   "file_extension": ".py",
   "mimetype": "text/x-python",
   "name": "python",
   "nbconvert_exporter": "python",
   "pygments_lexer": "ipython3",
   "version": "3.12.5"
  }
 },
 "nbformat": 4,
 "nbformat_minor": 2
}
